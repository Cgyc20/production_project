{
 "cells": [
  {
   "cell_type": "markdown",
   "metadata": {},
   "source": [
    "## The hybrid Production/Degradation model"
   ]
  },
  {
   "cell_type": "markdown",
   "metadata": {},
   "source": [
    "We will be applying the hybrid model to the following spatial system:\n",
    "\n",
    "$$\n",
    "\\emptyset \\xrightarrow{k_1} A, \\quad A \\xrightarrow{k_2} \\emptyset.\n",
    "$$\n",
    "\n",
    "Here we have rate of production equal to $k_1$ and rate of degradation equal to $k_2$. We implement this over both time and space, we run this on the following domain:\n",
    "\n",
    "$$\n",
    "\\Omega = [0,L], \\quad  t \\in [0,T].\n",
    "$$\n",
    "\n",
    "We will divide the spatial domain into $M$ compartments, in which each compartment has a length of $h$, such that $h = L/M$. We can let there be a local total number of species $A_i$ to be within each compartment $\\mathcal{C}_i$ for $i \\in [1,M]$. We then define the spatial domain to be a sequence of these compartments in which there is a jump-rate of diffusion $d$ which controls the movement of species between compartments:\n",
    "\n",
    "\n",
    "$$\n",
    "A_1 \\xrightleftharpoons[\\ d\\ ]{d} A_2 \\xrightleftharpoons[\\ d\\ ]{d} \\cdots \\xrightleftharpoons[\\ d\\ ]{d} A_M\n",
    "$$\n",
    "\n",
    "We will use $D_i$ to denote the discrete particles modelled using the stochastic algorithm. We then can model the evolution of the concentration of the species, $c(x,t)$ over the domain. The PDE for the chemical concentration is given by the following:\n",
    "\n",
    "$$\n",
    "\\frac{\\partial c}{\\partial t} = D\\frac{\\partial^2 c}{\\partial x^2} + k_1 - k_2c\n",
    "$$\n",
    "\n",
    "we have that $d = \\frac{D}{h^2}$. Given than the PDE grid is $k$ times more fine than the compartmental grid then we want to approximate the total mass within the compartment of the PDE we let this equal to $M_i$.\n",
    "\n",
    "$$\n",
    "\\int_{\\mathcal{C}_i} c(x,t) \\, dx = M_i\n",
    "$$\n",
    "\n",
    "We can approximate $M_i$ to be the following:\n",
    "\n",
    "$$\n",
    "\\int_{\\mathcal{C}_i} c(x,t) \\, dx = \\sum_{j=ik}^{j=(i+1)k-1} c(x_j,t) \\Delta x\n",
    "$$\n",
    "\n",
    "\n",
    "We can then approximate the total mass to be $A_i = D_i+ M_i$ at each compartment. \n",
    "\n",
    "Note we will exclude the production term in the PDE, only the stochastic regime will produce mass.\n",
    "\n",
    "$$\n",
    "\\frac{\\partial c}{\\partial t} = D\\frac{\\partial^2 c}{\\partial x^2} + \\cancel{k_1} - k_2c\n",
    "$$\n",
    "\n",
    "\n"
   ]
  },
  {
   "cell_type": "markdown",
   "metadata": {},
   "source": [
    "We are using the Crank-Nicholson method to update the PDE solution. Given that $\\bm{u}^i$ is the solution vector over the spatial grid at time $t=\\Delta t i$. We have the following matrix operation:\n",
    "\n",
    "$$\n",
    "\\bm{u}^{i+1}=\\bm{M}\\bm{u}^i\n",
    "$$\n",
    "Where:\n",
    "\n",
    "$$\n",
    "\\bm{M}=\\bm{M_1}^{-1}\\bm{M_2}, \\quad \\bm{M}_1=\\bm{I}\\left(1+\\frac{\\Delta t}{2}k_2\\right)-\\nu \\bm{H}\n",
    "$$\n",
    "$$\n",
    "\\bm{M}_2=\\bm{I}\\left(1-\\frac{\\Delta t}{2}k_2\\right)+\\nu \\bm{H}\n",
    "$$\n",
    "\n",
    "Where $\\nu = \\frac{D\\Delta t}{\\Delta x^2}$, and $\\bm{H}$ is the finite-difference matrix with zero-flux boundary conditions."
   ]
  },
  {
   "cell_type": "code",
   "execution_count": 1,
   "metadata": {},
   "outputs": [],
   "source": [
    "import numpy as np\n",
    "from production_project import Hybrid, Stochastic"
   ]
  },
  {
   "cell_type": "code",
   "execution_count": 56,
   "metadata": {},
   "outputs": [
    {
     "name": "stdout",
     "output_type": "stream",
     "text": [
      "Successfully initialized the hybrid model\n",
      "[0.  0.1 0.2 0.3 0.4 0.5 0.6 0.7 0.8 0.9]\n"
     ]
    }
   ],
   "source": [
    "\n",
    "domain_length = 1 #Length of the domain\n",
    "compartment_number = 10 #Number of compartments\n",
    "PDE_multiple = 10 #How many PDE's points per cell (ie we make it a multiple times more fine)\n",
    "total_time = 100 #The total time to run the system\n",
    "timestep = 0.02 #The time step\n",
    "threshold_conc = 100 #The threshold for the SSA to switch to the continuous regime\n",
    "gamma = 2 #The rate of conversion\n",
    "production_rate = 2 #The rate of production across the entire sim (this is later changed to be per cell, multiplied by h)\n",
    "degredation_rate = 0.01 #The rate of degredation\n",
    "diffusion_rate = (10e-1)/25 #The rate of diffusion (Scale down by L^2) Look at courant number\n",
    "number_particles_per_cell = 1 #Number of particles initially per compartment\n",
    "SSA_initial= np.ones((compartment_number), np.int64) * number_particles_per_cell #Initial conditions (within each cell) \n",
    "\n",
    "funky_initial = np.random.randint(10,size=compartment_number)\n",
    "\n",
    "# SSA_initial = funky_initial\n",
    "Model = Hybrid(domain_length, compartment_number, PDE_multiple, total_time, timestep, threshold_conc, gamma, production_rate, degredation_rate, diffusion_rate, SSA_initial)\n",
    "print(Model.SSA_X)"
   ]
  },
  {
   "cell_type": "code",
   "execution_count": 58,
   "metadata": {},
   "outputs": [
    {
     "name": "stderr",
     "output_type": "stream",
     "text": [
      "Running the simulations: 100%|██████████| 20/20 [00:24<00:00,  1.24s/it]"
     ]
    },
    {
     "name": "stdout",
     "output_type": "stream",
     "text": [
      "Simulation completed\n"
     ]
    },
    {
     "name": "stderr",
     "output_type": "stream",
     "text": [
      "\n"
     ]
    }
   ],
   "source": [
    "D_grid,C_grid,combined_grid = Model.run_simulation(number_of_repeats=20)"
   ]
  },
  {
   "cell_type": "code",
   "execution_count": 60,
   "metadata": {},
   "outputs": [
    {
     "name": "stdout",
     "output_type": "stream",
     "text": [
      "Data saved successfully\n"
     ]
    }
   ],
   "source": [
    "Model.save_simulation_data(D_grid,C_grid,combined_grid, datadirectory='data')"
   ]
  },
  {
   "cell_type": "markdown",
   "metadata": {},
   "source": [
    "To animate this please type in python animate.py x in the terminal where x is the skipping number of intervals (lower the skip, faster the animation)"
   ]
  },
  {
   "cell_type": "code",
   "execution_count": 61,
   "metadata": {},
   "outputs": [
    {
     "name": "stdout",
     "output_type": "stream",
     "text": [
      "Successfully initialized the Stochastic model\n"
     ]
    }
   ],
   "source": [
    "SSA_model =  Stochastic(domain_length, compartment_number, total_time, timestep, production_rate, degredation_rate, diffusion_rate, SSA_initial) #ignore "
   ]
  },
  {
   "cell_type": "code",
   "execution_count": 62,
   "metadata": {},
   "outputs": [
    {
     "name": "stderr",
     "output_type": "stream",
     "text": [
      "Running the simulations: 100%|██████████| 10/10 [00:09<00:00,  1.02it/s]"
     ]
    },
    {
     "name": "stdout",
     "output_type": "stream",
     "text": [
      "Simulation completed\n",
      "[13.4 14.  12.8 11.8 14.7 12.8 15.3 13.  13.7 13.2]\n",
      "[[13.4  0.8  1.  ... 14.1 14.3 13.8]\n",
      " [14.   1.2  1.4 ... 13.4 13.5 14.2]\n",
      " [12.8  1.2  1.  ... 12.9 12.4 12.5]\n",
      " ...\n",
      " [13.   0.9  1.  ... 15.4 14.1 13.5]\n",
      " [13.7  0.8  1.2 ... 12.6 13.4 14.2]\n",
      " [13.2  1.1  0.8 ... 13.2 12.9 12.7]]\n"
     ]
    },
    {
     "name": "stderr",
     "output_type": "stream",
     "text": [
      "\n"
     ]
    }
   ],
   "source": [
    "SSA_grid = SSA_model.run_simulation(number_of_repeats=10)\n",
    "\n",
    "print(SSA_grid[:,0])\n",
    "print(SSA_grid)"
   ]
  },
  {
   "cell_type": "code",
   "execution_count": 63,
   "metadata": {},
   "outputs": [
    {
     "name": "stdout",
     "output_type": "stream",
     "text": [
      "Data saved successfully\n"
     ]
    }
   ],
   "source": [
    "SSA_model.save_simulation_data(SSA_grid, datadirectory='data') #ignore"
   ]
  },
  {
   "cell_type": "code",
   "execution_count": null,
   "metadata": {},
   "outputs": [],
   "source": []
  }
 ],
 "metadata": {
  "kernelspec": {
   "display_name": "FastEnv",
   "language": "python",
   "name": "python3"
  },
  "language_info": {
   "codemirror_mode": {
    "name": "ipython",
    "version": 3
   },
   "file_extension": ".py",
   "mimetype": "text/x-python",
   "name": "python",
   "nbconvert_exporter": "python",
   "pygments_lexer": "ipython3",
   "version": "3.12.7"
  }
 },
 "nbformat": 4,
 "nbformat_minor": 2
}
